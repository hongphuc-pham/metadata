{
 "cells": [
  {
   "cell_type": "code",
   "execution_count": 1,
   "id": "5fbd56e0",
   "metadata": {},
   "outputs": [],
   "source": [
    "import subprocess\n",
    "import re\n",
    "import os"
   ]
  },
  {
   "cell_type": "code",
   "execution_count": 2,
   "id": "8b57ea6a",
   "metadata": {},
   "outputs": [],
   "source": [
    "def get_image_name(container_image):\n",
    "    match = re.search(r'/(?P<value>[^/:]+):', container_image)\n",
    "\n",
    "    if match:\n",
    "        return match.group('value')\n",
    "    else:\n",
    "        return \"defaultName\""
   ]
  },
  {
   "cell_type": "code",
   "execution_count": 3,
   "id": "0ff36181",
   "metadata": {},
   "outputs": [],
   "source": [
    "def generate_SBOM_using_syft(container_image):\n",
    "    #function to generate the SBOM from a container image in CycloneDX JSON format\n",
    "    #./syft ghcr.io/navisk13/actions-tester:main -o cyclonedx-json > sbom.json\n",
    "    \n",
    "    file_name = get_image_name(container_image)\n",
    "        \n",
    "    with open(\"sbom_\" + file_name + \".json\", \"w\") as output_file:\n",
    "        subprocess.run([\"../Tools/Syft/syft\", container_image, \"-o\", \"cyclonedx-json\"], stdout=output_file)"
   ]
  },
  {
   "cell_type": "code",
   "execution_count": 4,
   "id": "e2cd0a25",
   "metadata": {},
   "outputs": [],
   "source": [
    "def download_provenance_cosign(container_image):\n",
    "    #function to download the provenance statement from the image on GHCR\n",
    "    #./cosign download attestation ghcr.io/navisk13/actions-tester:main | jq -r '.payload' | base64 -d | jq > provenance.json\n",
    "        \n",
    "    file_name = get_image_name(container_image)\n",
    "    \n",
    "    process1 = subprocess.Popen([\"../Tools/CoSign/cosign\", \"download\", \"attestation\", container_image], stdout=subprocess.PIPE)\n",
    "    \n",
    "    process2 = subprocess.Popen([\"jq\", \"-r\", \".payload\"], stdin=process1.stdout, stdout=subprocess.PIPE)\n",
    "    \n",
    "    process3 = subprocess.Popen([\"base64\", \"-d\"], stdin=process2.stdout, stdout=subprocess.PIPE)\n",
    "    \n",
    "    with open(\"provenance_\" + file_name + \".json\", \"w\") as output_file:\n",
    "        output_file.write(process3.communicate()[0].decode())"
   ]
  },
  {
   "cell_type": "code",
   "execution_count": 5,
   "id": "3dba45b4",
   "metadata": {},
   "outputs": [],
   "source": [
    "def sign_metadata_ssh(file_name):\n",
    "    #function to sign the artifacts using an ssh key before publishing it using rekor\n",
    "    #ssh-keygen -Y sign -n file -f ../Tools/Rekor/myfirstkey -P joker sbom_actions-tester.json\n",
    "    process = subprocess.Popen([\"ssh-keygen\", \"-Y\", \"sign\", \"-n\", \"file\", \"-f\", \"../Tools/Rekor/myfirstkey\", \"-P\", \"joker\"], stdin=subprocess.PIPE, stdout=subprocess.PIPE)\n",
    "\n",
    "    with open(file_name, \"rb\") as input_file:\n",
    "        input_data = input_file.read()\n",
    "\n",
    "    output = process.communicate(input=input_data)[0]\n",
    "\n",
    "    with open(file_name + \".sig\", \"wb\") as output_file:\n",
    "        output_file.write(output)"
   ]
  },
  {
   "cell_type": "code",
   "execution_count": 6,
   "id": "c1a2d84c",
   "metadata": {},
   "outputs": [],
   "source": [
    "def publish_metadata_rekor(file_name):\n",
    "    #function to publish metadata on the rekor server\n",
    "    #rekor-cli upload --artifact sbom_actions-tester.json --signature sbom_actions-tester.json.sig --pki-format=ssh --public-key=../Tools/Rekor/myfirstkey.pub\n",
    "\n",
    "    signature_file = file_name + \".sig\"\n",
    "\n",
    "    process = subprocess.Popen([\"rekor-cli\", \"upload\", \"--artifact\", file_name, \"--signature\", signature_file, \"--pki-format=ssh\", \"--public-key=../Tools/Rekor/myfirstkey.pub\"], stdin=subprocess.PIPE, stdout=subprocess.PIPE)\n",
    "\n",
    "    with open(signature_file, \"rb\") as input_file:\n",
    "        signature_data = input_file.read()\n",
    "\n",
    "    output = process.communicate(input=signature_data)[0]\n",
    "\n",
    "    artifact_url = output.decode()\n",
    "    \n",
    "    return artifact_url"
   ]
  },
  {
   "cell_type": "code",
   "execution_count": 7,
   "id": "f700ff36",
   "metadata": {},
   "outputs": [],
   "source": [
    "def download_from_rekor_with_uuid(uuid_val, file_name):\n",
    "    #download signature info from the rekor server as a JSON file\n",
    "    #rekor-cli get --uuid 24296fb24b8ad77a95ce78edb06d4622b55d755ff34f0fda08ca2da724f840d863043a70b8909ea4 > signature_info.json\n",
    "\n",
    "    process = subprocess.Popen([\"rekor-cli\", \"get\", \"--uuid\", uuid_val], stdout=subprocess.PIPE)\n",
    "\n",
    "    with open(file_name + \"_signature_info.json\", \"wb\") as output_file:\n",
    "        output_file.write(process.stdout.read())"
   ]
  },
  {
   "cell_type": "code",
   "execution_count": 8,
   "id": "8a16bcd7",
   "metadata": {},
   "outputs": [],
   "source": [
    "def verify_provenance_with_slsa_verifier(container_image, repo_uri):\n",
    "    IMAGE = container_image\n",
    "    process = subprocess.run([\"crane\", \"digest\", IMAGE], capture_output=True, text=True)\n",
    "    IMAGE = f\"{IMAGE}@{process.stdout.strip()}\"\n",
    "    \n",
    "    process = subprocess.run([\"../Tools/SLSAVerifier/slsa-verifier-linux-amd64\", \"verify-image\", IMAGE, \"--source-uri\", repo_uri], text=True)"
   ]
  },
  {
   "cell_type": "code",
   "execution_count": 9,
   "id": "71f64723",
   "metadata": {},
   "outputs": [],
   "source": [
    "def main():\n",
    "    container_image = \"ghcr.io/hongphuc-pham/metadata:main\"\n",
    "    repo_uri = \"github.com/hongphuc-pham/metadata\"\n",
    "    file_name = get_image_name(container_image)\n",
    "    \n",
    "    if file_name != \"defaultName\":\n",
    "    \n",
    "        generate_SBOM_using_syft(container_image)\n",
    "        download_provenance_cosign(container_image)\n",
    "\n",
    "        sbom_file = \"sbom_\" + file_name + \".json\"\n",
    "        provenance_file = \"provenance_\" + file_name + \".json\"\n",
    "    \n",
    "        sign_metadata_ssh(sbom_file)\n",
    "        sign_metadata_ssh(provenance_file)\n",
    "    \n",
    "        sbom_url = publish_metadata_rekor(sbom_file)\n",
    "        provenance_url = publish_metadata_rekor(provenance_file)\n",
    "    \n",
    "        sbom_uuid = sbom_url.split(\"entries/\")[-1]\n",
    "        sbom_uuid = sbom_uuid.strip()\n",
    "    \n",
    "        provenance_uuid = provenance_url.split(\"entries/\")[-1]\n",
    "        provenance_uuid = provenance_uuid.strip()\n",
    "    \n",
    "        download_from_rekor_with_uuid(sbom_uuid, sbom_file)\n",
    "        download_from_rekor_with_uuid(provenance_uuid, provenance_file)\n",
    "        \n",
    "        verify_provenance_with_slsa_verifier(container_image, repo_uri)\n",
    "        \n",
    "    else:\n",
    "        print(\"There was an issue retrieving the container image name, Aborting!\")"
   ]
  },
  {
   "cell_type": "code",
   "execution_count": 10,
   "id": "18aebe38",
   "metadata": {},
   "outputs": [
    {
     "name": "stderr",
     "output_type": "stream",
     "text": [
      "Signing data on standard input\n",
      "Signing data on standard input\n",
      "Verified build using builder \"https://github.com/slsa-framework/slsa-github-generator/.github/workflows/generator_container_slsa3.yml@refs/tags/v1.9.0\" at commit 017ff5988dbb908c6f09e82c12d9564f9f652f97\n",
      "PASSED: Verified SLSA provenance\n"
     ]
    }
   ],
   "source": [
    "main()"
   ]
  },
  {
   "cell_type": "code",
   "execution_count": null,
   "id": "d546fb00",
   "metadata": {},
   "outputs": [],
   "source": []
  }
 ],
 "metadata": {
  "kernelspec": {
   "display_name": "Python 3 (ipykernel)",
   "language": "python",
   "name": "python3"
  },
  "language_info": {
   "codemirror_mode": {
    "name": "ipython",
    "version": 3
   },
   "file_extension": ".py",
   "mimetype": "text/x-python",
   "name": "python",
   "nbconvert_exporter": "python",
   "pygments_lexer": "ipython3",
   "version": "3.8.10"
  }
 },
 "nbformat": 4,
 "nbformat_minor": 5
}
